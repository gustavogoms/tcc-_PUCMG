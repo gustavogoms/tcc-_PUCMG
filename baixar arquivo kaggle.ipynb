{
 "cells": [
  {
   "cell_type": "code",
   "execution_count": 2,
   "id": "32396360",
   "metadata": {},
   "outputs": [],
   "source": [
    "from zipfile import ZipFile"
   ]
  },
  {
   "cell_type": "code",
   "execution_count": 4,
   "id": "65689a37",
   "metadata": {},
   "outputs": [
    {
     "name": "stdout",
     "output_type": "stream",
     "text": [
      "Warning: Looks like you're using an outdated API Version, please consider updating (server 1.6.14 / client 1.6.12)\n",
      "Dataset URL: https://www.kaggle.com/datasets/adaoduque/campeonato-brasileiro-de-futebol\n",
      "License(s): GPL-2.0\n",
      "campeonato-brasileiro-de-futebol.zip: Skipping, found more recently modified local copy (use --force to force download)\n",
      "Warning: Looks like you're using an outdated API Version, please consider updating (server 1.6.14 / client 1.6.12)"
     ]
    },
    {
     "name": "stderr",
     "output_type": "stream",
     "text": [
      "\n",
      "  0%|          | 0.00/1.25M [00:00<?, ?B/s]\n",
      " 80%|########  | 1.00M/1.25M [00:00<00:00, 1.39MB/s]\n",
      "100%|##########| 1.25M/1.25M [00:00<00:00, 1.65MB/s]\n"
     ]
    },
    {
     "name": "stdout",
     "output_type": "stream",
     "text": [
      "\n",
      "Dataset URL: https://www.kaggle.com/datasets/eebrunoliberato/estados-e-municpios-latitude-e-longitude\n",
      "License(s): unknown\n",
      "Downloading estados-e-municpios-latitude-e-longitude.zip to C:\\Users\\gusta\\Documents\\TCC\n",
      "\n"
     ]
    }
   ],
   "source": [
    "# baixar o arquivo do campeonato brasileiro\n",
    "!kaggle datasets download -d \"adaoduque/campeonato-brasileiro-de-futebol\"\n",
    "# baixar o arquivo do geoprocessamento para complemento\n",
    "!kaggle datasets download -d \"eebrunoliberato/estados-e-municpios-latitude-e-longitude\"\n",
    "!kaggle datasets download -d \"davidantonioteixeira/brasileirao2008-2019\"\n",
    "!kaggle datasets download -d \"davidantonioteixeira/brasileiro-2023\""
   ]
  },
  {
   "cell_type": "code",
   "execution_count": 5,
   "id": "7eb27566",
   "metadata": {},
   "outputs": [],
   "source": [
    "camp = ZipFile(r'C:\\Users\\gusta\\Documents\\TCC\\campeonato-brasileiro-de-futebol.zip', 'r')\n",
    "camp.extractall()\n",
    "camp.close()\n",
    "\n",
    "\n",
    "latlong = ZipFile(r'C:\\Users\\gusta\\Documents\\TCC\\estados-e-municpios-latitude-e-longitude.zip', 'r')\n",
    "latlong.extractall()\n",
    "latlong.close()"
   ]
  },
  {
   "cell_type": "code",
   "execution_count": null,
   "id": "486c919f",
   "metadata": {},
   "outputs": [],
   "source": [
    "!kaggle datasets download -d \"eebrunoliberato/estados-e-municpios-latitude-e-longitude\"\n",
    "!kaggle datasets download -d \"eebrunoliberato/estados-e-municpios-latitude-e-longitude\"\n",
    "!kaggle datasets download -d \"eebrunoliberato/estados-e-municpios-latitude-e-longitude\""
   ]
  },
  {
   "cell_type": "code",
   "execution_count": 1,
   "id": "9c2fc64e",
   "metadata": {},
   "outputs": [
    {
     "name": "stdout",
     "output_type": "stream",
     "text": [
      "Warning: Looks like you're using an outdated API Version, please consider updating (server 1.6.14 / client 1.6.12)\n",
      "Dataset URL: https://www.kaggle.com/datasets/davidantonioteixeira/brasileirao2008-2019\n",
      "License(s): CC0-1.0\n",
      "Downloading brasileirao2008-2019.zip to C:\\Users\\gusta\\OneDrive\\Área de Trabalho\\TCC\n",
      "\n"
     ]
    },
    {
     "name": "stderr",
     "output_type": "stream",
     "text": [
      "\n",
      "  0%|          | 0.00/232k [00:00<?, ?B/s]\n",
      "100%|##########| 232k/232k [00:00<00:00, 507kB/s]\n",
      "100%|##########| 232k/232k [00:00<00:00, 505kB/s]\n"
     ]
    },
    {
     "name": "stdout",
     "output_type": "stream",
     "text": [
      "Warning: Looks like you're using an outdated API Version, please consider updating (server 1.6.14 / client 1.6.12)\n",
      "Dataset URL: https://www.kaggle.com/datasets/davidantonioteixeira/brasileiro-2023\n",
      "License(s): CC0-1.0\n",
      "Downloading brasileiro-2023.zip to C:\\Users\\gusta\\OneDrive\\Área de Trabalho\\TCC\n",
      "\n"
     ]
    },
    {
     "name": "stderr",
     "output_type": "stream",
     "text": [
      "\n",
      "  0%|          | 0.00/12.5k [00:00<?, ?B/s]\n",
      "100%|##########| 12.5k/12.5k [00:00<00:00, 6.40MB/s]\n"
     ]
    },
    {
     "name": "stdout",
     "output_type": "stream",
     "text": [
      "Warning: Looks like you're using an outdated API Version, please consider updating (server 1.6.14 / client 1.6.12)\n",
      "Dataset URL: https://www.kaggle.com/datasets/mcarujo/brasileirao-2022-serie-ab\n",
      "License(s): DbCL-1.0\n",
      "Downloading brasileirao-2022-serie-ab.zip to C:\\Users\\gusta\\OneDrive\\Área de Trabalho\\TCC\n",
      "\n"
     ]
    },
    {
     "name": "stderr",
     "output_type": "stream",
     "text": [
      "\n",
      "  0%|          | 0.00/324k [00:00<?, ?B/s]\n",
      "100%|##########| 324k/324k [00:00<00:00, 685kB/s]\n",
      "100%|##########| 324k/324k [00:00<00:00, 683kB/s]\n"
     ]
    }
   ],
   "source": [
    "!kaggle datasets download -d \"davidantonioteixeira/brasileirao2008-2019\"\n",
    "!kaggle datasets download -d \"davidantonioteixeira/brasileiro-2023\"\n",
    "!kaggle datasets download -d \"mcarujo/brasileirao-2022-serie-ab\""
   ]
  },
  {
   "cell_type": "code",
   "execution_count": 3,
   "id": "96f50264",
   "metadata": {},
   "outputs": [],
   "source": [
    "camp2019 = ZipFile(r'C:\\Users\\gusta\\OneDrive\\Área de Trabalho\\TCC\\brasileirao2008-2019.zip', 'r')\n",
    "camp2019.extractall()\n",
    "camp2019.close()\n",
    "\n",
    "\n",
    "camp2022 = ZipFile(r'C:\\Users\\gusta\\OneDrive\\Área de Trabalho\\TCC\\brasileirao-2022-serie-ab.zip', 'r')\n",
    "camp2022.extractall()\n",
    "camp2022.close()\n",
    "\n",
    "camp2023 = ZipFile(r'C:\\Users\\gusta\\OneDrive\\Área de Trabalho\\TCC\\brasileiro-2023.zip', 'r')\n",
    "camp2023.extractall()\n",
    "camp2023.close()"
   ]
  }
 ],
 "metadata": {
  "kernelspec": {
   "display_name": "Python 3 (ipykernel)",
   "language": "python",
   "name": "python3"
  },
  "language_info": {
   "codemirror_mode": {
    "name": "ipython",
    "version": 3
   },
   "file_extension": ".py",
   "mimetype": "text/x-python",
   "name": "python",
   "nbconvert_exporter": "python",
   "pygments_lexer": "ipython3",
   "version": "3.9.7"
  }
 },
 "nbformat": 4,
 "nbformat_minor": 5
}
